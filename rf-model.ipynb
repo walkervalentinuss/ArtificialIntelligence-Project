{
 "cells": [
  {
   "cell_type": "markdown",
   "id": "727a2ffd",
   "metadata": {},
   "source": [
    "## Import Package"
   ]
  },
  {
   "cell_type": "code",
   "execution_count": 1,
   "id": "ca4b83a2",
   "metadata": {
    "vscode": {
     "languageId": "plaintext"
    }
   },
   "outputs": [],
   "source": [
    "# Data Processing\n",
    "import pandas as pd\n",
    "import numpy as np\n",
    "\n",
    "# Modelling\n",
    "from sklearn.preprocessing import LabelEncoder, OneHotEncoder\n",
    "from sklearn.model_selection import train_test_split\n",
    "from sklearn.ensemble import RandomForestClassifier\n",
    "from sklearn.metrics import confusion_matrix, accuracy_score, balanced_accuracy_score\n",
    "\n",
    "# Tree Visualization\n",
    "from sklearn.tree import export_graphviz\n",
    "from IPython.display import Image\n",
    "import graphviz"
   ]
  },
  {
   "cell_type": "markdown",
   "id": "c573c668",
   "metadata": {},
   "source": [
    "## Membaca Dataset"
   ]
  },
  {
   "cell_type": "code",
   "execution_count": 2,
   "id": "204ea508",
   "metadata": {},
   "outputs": [],
   "source": [
    "df = pd.read_csv('android_traffic.csv', sep=';')\n",
    "df_copy = df.copy()"
   ]
  },
  {
   "cell_type": "markdown",
   "id": "d0a4dbc4",
   "metadata": {},
   "source": [
    "## Menghapus kolom yang memiliki NaN 100%"
   ]
  },
  {
   "cell_type": "code",
   "execution_count": 3,
   "id": "e479db68",
   "metadata": {},
   "outputs": [],
   "source": [
    "columns_to_remove = ['duracion','avg_local_pkt_rate','avg_remote_pkt_rate']\n",
    "df_copy = df_copy.drop(columns = columns_to_remove)"
   ]
  },
  {
   "cell_type": "markdown",
   "id": "bb4bd975",
   "metadata": {},
   "source": [
    "## Memisahkan fitur independent dan fitur dependent"
   ]
  },
  {
   "cell_type": "code",
   "execution_count": 4,
   "id": "8214df53",
   "metadata": {},
   "outputs": [],
   "source": [
    "X = df_copy.iloc[:, :-1].values # Independent Feature\n",
    "y = df_copy.iloc[:, 13].values # Dependent Feature"
   ]
  },
  {
   "cell_type": "markdown",
   "id": "0e126c0a",
   "metadata": {},
   "source": [
    "## Melakukan Labeling"
   ]
  },
  {
   "cell_type": "code",
   "execution_count": 5,
   "id": "9c64e214",
   "metadata": {},
   "outputs": [],
   "source": [
    "encoder = OneHotEncoder(handle_unknown='ignore')\n",
    "X = encoder.fit_transform(X).toarray()\n",
    "\n",
    "label_encoder_y = LabelEncoder()\n",
    "y = label_encoder_y.fit_transform(y)\n"
   ]
  },
  {
   "cell_type": "markdown",
   "id": "7ff267d6",
   "metadata": {},
   "source": [
    "## Membagi dataset menjadi Training dan Testing"
   ]
  },
  {
   "cell_type": "code",
   "execution_count": 6,
   "id": "e7a7a661",
   "metadata": {},
   "outputs": [],
   "source": [
    "X_Train, X_Test, y_Train, y_Test = train_test_split(\\\n",
    "                                                    X,\n",
    "                                                    y,\n",
    "                                                    test_size = 0.2,\n",
    "                                                    random_state = 100)\n"
   ]
  },
  {
   "cell_type": "markdown",
   "id": "a2ae2a93",
   "metadata": {},
   "source": [
    "## Model Random Forest"
   ]
  },
  {
   "cell_type": "code",
   "execution_count": 7,
   "id": "f7a6b784",
   "metadata": {},
   "outputs": [
    {
     "name": "stdout",
     "output_type": "stream",
     "text": [
      "[[935   4]\n",
      " [ 26 604]]\n",
      "Accuracy:  0.9808795411089866\n",
      "Balanced Accuracy:  0.9772351539124702\n"
     ]
    }
   ],
   "source": [
    "model_rf = RandomForestClassifier(random_state=100)\n",
    "\n",
    "model_rf.fit(X_Train, y_Train)\n",
    "y_pred = model_rf.predict(X_Test)\n",
    "\n",
    "print(confusion_matrix(y_Test, y_pred))\n",
    "print(\"Accuracy: \", accuracy_score(y_Test, y_pred))\n",
    "print(\"Balanced Accuracy: \", balanced_accuracy_score(y_Test, y_pred))"
   ]
  },
  {
   "cell_type": "markdown",
   "id": "a545f6f2",
   "metadata": {},
   "source": [
    "## Visualization"
   ]
  },
  {
   "cell_type": "code",
   "execution_count": 8,
   "id": "78775688",
   "metadata": {},
   "outputs": [
    {
     "data": {
      "image/png": "[encoded data removed]",
      "text/plain": [
       "<Figure size 800x600 with 1 Axes>"
      ]
     },
     "metadata": {},
     "output_type": "display_data"
    }
   ],
   "source": [
    "#Confusion Matrix\n",
    "import matplotlib.pyplot as plt\n",
    "import seaborn as sns\n",
    "from sklearn.metrics import confusion_matrix, classification_report\n",
    "\n",
    "# Membuat Confusion Matrix\n",
    "conf_matrix = confusion_matrix(y_Test, y_pred)\n",
    "\n",
    "# Visualisasi Confusion Matrix\n",
    "plt.figure(figsize=(8,6))\n",
    "sns.heatmap(conf_matrix, annot=True, fmt=\"d\", cmap=\"Blues\", cbar=False,\\\n",
    "            xticklabels=label_encoder_y.classes_, yticklabels=label_encoder_y.classes_)\n",
    "\n",
    "plt.title(\"Confusion Matrix\")\n",
    "plt.xlabel(\"Predicted Label\")\n",
    "plt.ylabel(\"True Label\")\n",
    "plt.show()"
   ]
  },
  {
   "cell_type": "code",
   "execution_count": 23,
   "id": "386d702c",
   "metadata": {},
   "outputs": [
    {
     "data": {
      "text/plain": [
       "array([[0., 0., 0., ..., 0., 0., 0.],\n",
       "       [0., 0., 0., ..., 0., 0., 0.],\n",
       "       [0., 0., 0., ..., 0., 0., 0.],\n",
       "       [0., 0., 0., ..., 0., 0., 0.],\n",
       "       [0., 0., 0., ..., 0., 0., 0.]])"
      ]
     },
     "execution_count": 23,
     "metadata": {},
     "output_type": "execute_result"
    }
   ],
   "source": [
    "X_Train[:5]"
   ]
  },
  {
   "cell_type": "code",
   "execution_count": 14,
   "id": "d68b6652",
   "metadata": {},
   "outputs": [
    {
     "data": {
      "image/svg+xml": [
       "<?xml version=\"1.0\" encoding=\"UTF-8\" standalone=\"no\"?>\n",
       "<!DOCTYPE svg PUBLIC \"-//W3C//DTD SVG 1.1//EN\"\n",
       " \"http://www.w3.org/Graphics/SVG/1.1/DTD/svg11.dtd\">\n",
       "<!-- Generated by graphviz version 2.50.0 (0)\n",
       " -->\n",
       "<!-- Title: Tree Pages: 1 -->\n",
       "<svg width=\"290pt\" height=\"222pt\"\n",
       " viewBox=\"0.00 0.00 290.00 222.00\" xmlns=\"http://www.w3.org/2000/svg\" xmlns:xlink=\"http://www.w3.org/1999/xlink\">\n",
       "<g id=\"graph0\" class=\"graph\" transform=\"scale(1 1) rotate(0) translate(4 218)\">\n",
       "<title>Tree</title>\n",
       "<polygon fill=\"white\" stroke=\"transparent\" points=\"-4,4 -4,-218 286,-218 286,4 -4,4\"/>\n",
       "<!-- 0 -->\n",
       "<g id=\"node1\" class=\"node\">\n",
       "<title>0</title>\n",
       "<polygon fill=\"#f7d7c0\" stroke=\"black\" points=\"222,-214 75,-214 75,-161 222,-161 222,-214\"/>\n",
       "<text text-anchor=\"middle\" x=\"148.5\" y=\"-198.8\" font-family=\"Helvetica,sans-Serif\" font-size=\"14.00\">feature_7558 &lt;= 0.5</text>\n",
       "<text text-anchor=\"middle\" x=\"148.5\" y=\"-183.8\" font-family=\"Helvetica,sans-Serif\" font-size=\"14.00\">samples = 100.0%</text>\n",
       "<text text-anchor=\"middle\" x=\"148.5\" y=\"-168.8\" font-family=\"Helvetica,sans-Serif\" font-size=\"14.00\">value = [0.594, 0.406]</text>\n",
       "</g>\n",
       "<!-- 1 -->\n",
       "<g id=\"node2\" class=\"node\">\n",
       "<title>1</title>\n",
       "<polygon fill=\"#f6d6be\" stroke=\"black\" points=\"147,-125 0,-125 0,-72 147,-72 147,-125\"/>\n",
       "<text text-anchor=\"middle\" x=\"73.5\" y=\"-109.8\" font-family=\"Helvetica,sans-Serif\" font-size=\"14.00\">feature_12563 &lt;= 0.5</text>\n",
       "<text text-anchor=\"middle\" x=\"73.5\" y=\"-94.8\" font-family=\"Helvetica,sans-Serif\" font-size=\"14.00\">samples = 99.2%</text>\n",
       "<text text-anchor=\"middle\" x=\"73.5\" y=\"-79.8\" font-family=\"Helvetica,sans-Serif\" font-size=\"14.00\">value = [0.598, 0.402]</text>\n",
       "</g>\n",
       "<!-- 0&#45;&gt;1 -->\n",
       "<g id=\"edge1\" class=\"edge\">\n",
       "<title>0&#45;&gt;1</title>\n",
       "<path fill=\"none\" stroke=\"black\" d=\"M126.4,-160.87C118.84,-152.1 110.27,-142.15 102.26,-132.86\"/>\n",
       "<polygon fill=\"black\" stroke=\"black\" points=\"104.88,-130.54 95.7,-125.25 99.58,-135.11 104.88,-130.54\"/>\n",
       "<text text-anchor=\"middle\" x=\"93.85\" y=\"-146.48\" font-family=\"Helvetica,sans-Serif\" font-size=\"14.00\">True</text>\n",
       "</g>\n",
       "<!-- 2014 -->\n",
       "<g id=\"node5\" class=\"node\">\n",
       "<title>2014</title>\n",
       "<polygon fill=\"#399de5\" stroke=\"black\" points=\"282,-117.5 165,-117.5 165,-79.5 282,-79.5 282,-117.5\"/>\n",
       "<text text-anchor=\"middle\" x=\"223.5\" y=\"-102.3\" font-family=\"Helvetica,sans-Serif\" font-size=\"14.00\">samples = 0.8%</text>\n",
       "<text text-anchor=\"middle\" x=\"223.5\" y=\"-87.3\" font-family=\"Helvetica,sans-Serif\" font-size=\"14.00\">value = [0.0, 1.0]</text>\n",
       "</g>\n",
       "<!-- 0&#45;&gt;2014 -->\n",
       "<g id=\"edge4\" class=\"edge\">\n",
       "<title>0&#45;&gt;2014</title>\n",
       "<path fill=\"none\" stroke=\"black\" d=\"M170.6,-160.87C180.26,-149.66 191.58,-136.53 201.26,-125.29\"/>\n",
       "<polygon fill=\"black\" stroke=\"black\" points=\"204.1,-127.37 207.98,-117.51 198.8,-122.8 204.1,-127.37\"/>\n",
       "<text text-anchor=\"middle\" x=\"209.82\" y=\"-138.74\" font-family=\"Helvetica,sans-Serif\" font-size=\"14.00\">False</text>\n",
       "</g>\n",
       "<!-- 2 -->\n",
       "<g id=\"node3\" class=\"node\">\n",
       "<title>2</title>\n",
       "<polygon fill=\"#c0c0c0\" stroke=\"black\" points=\"64.5,-36 10.5,-36 10.5,0 64.5,0 64.5,-36\"/>\n",
       "<text text-anchor=\"middle\" x=\"37.5\" y=\"-14.3\" font-family=\"Helvetica,sans-Serif\" font-size=\"14.00\">(...)</text>\n",
       "</g>\n",
       "<!-- 1&#45;&gt;2 -->\n",
       "<g id=\"edge2\" class=\"edge\">\n",
       "<title>1&#45;&gt;2</title>\n",
       "<path fill=\"none\" stroke=\"black\" d=\"M61.71,-71.8C57.84,-63.35 53.53,-53.95 49.63,-45.45\"/>\n",
       "<polygon fill=\"black\" stroke=\"black\" points=\"52.8,-43.96 45.45,-36.33 46.43,-46.88 52.8,-43.96\"/>\n",
       "</g>\n",
       "<!-- 2013 -->\n",
       "<g id=\"node4\" class=\"node\">\n",
       "<title>2013</title>\n",
       "<polygon fill=\"#c0c0c0\" stroke=\"black\" points=\"136.5,-36 82.5,-36 82.5,0 136.5,0 136.5,-36\"/>\n",
       "<text text-anchor=\"middle\" x=\"109.5\" y=\"-14.3\" font-family=\"Helvetica,sans-Serif\" font-size=\"14.00\">(...)</text>\n",
       "</g>\n",
       "<!-- 1&#45;&gt;2013 -->\n",
       "<g id=\"edge3\" class=\"edge\">\n",
       "<title>1&#45;&gt;2013</title>\n",
       "<path fill=\"none\" stroke=\"black\" d=\"M85.29,-71.8C89.16,-63.35 93.47,-53.95 97.37,-45.45\"/>\n",
       "<polygon fill=\"black\" stroke=\"black\" points=\"100.57,-46.88 101.55,-36.33 94.2,-43.96 100.57,-46.88\"/>\n",
       "</g>\n",
       "</g>\n",
       "</svg>\n"
      ],
      "text/plain": [
       "<graphviz.sources.Source at 0x21aba88da50>"
      ]
     },
     "metadata": {},
     "output_type": "display_data"
    },
    {
     "data": {
      "image/svg+xml": [
       "<?xml version=\"1.0\" encoding=\"UTF-8\" standalone=\"no\"?>\n",
       "<!DOCTYPE svg PUBLIC \"-//W3C//DTD SVG 1.1//EN\"\n",
       " \"http://www.w3.org/Graphics/SVG/1.1/DTD/svg11.dtd\">\n",
       "<!-- Generated by graphviz version 2.50.0 (0)\n",
       " -->\n",
       "<!-- Title: Tree Pages: 1 -->\n",
       "<svg width=\"320pt\" height=\"222pt\"\n",
       " viewBox=\"0.00 0.00 319.50 222.00\" xmlns=\"http://www.w3.org/2000/svg\" xmlns:xlink=\"http://www.w3.org/1999/xlink\">\n",
       "<g id=\"graph0\" class=\"graph\" transform=\"scale(1 1) rotate(0) translate(4 218)\">\n",
       "<title>Tree</title>\n",
       "<polygon fill=\"white\" stroke=\"transparent\" points=\"-4,4 -4,-218 315.5,-218 315.5,4 -4,4\"/>\n",
       "<!-- 0 -->\n",
       "<g id=\"node1\" class=\"node\">\n",
       "<title>0</title>\n",
       "<polygon fill=\"#f6d5be\" stroke=\"black\" points=\"227,-214 80,-214 80,-161 227,-161 227,-214\"/>\n",
       "<text text-anchor=\"middle\" x=\"153.5\" y=\"-198.8\" font-family=\"Helvetica,sans-Serif\" font-size=\"14.00\">feature_170 &lt;= 0.5</text>\n",
       "<text text-anchor=\"middle\" x=\"153.5\" y=\"-183.8\" font-family=\"Helvetica,sans-Serif\" font-size=\"14.00\">samples = 100.0%</text>\n",
       "<text text-anchor=\"middle\" x=\"153.5\" y=\"-168.8\" font-family=\"Helvetica,sans-Serif\" font-size=\"14.00\">value = [0.599, 0.401]</text>\n",
       "</g>\n",
       "<!-- 1 -->\n",
       "<g id=\"node2\" class=\"node\">\n",
       "<title>1</title>\n",
       "<polygon fill=\"#f6d6be\" stroke=\"black\" points=\"147,-125 0,-125 0,-72 147,-72 147,-125\"/>\n",
       "<text text-anchor=\"middle\" x=\"73.5\" y=\"-109.8\" font-family=\"Helvetica,sans-Serif\" font-size=\"14.00\">feature_5755 &lt;= 0.5</text>\n",
       "<text text-anchor=\"middle\" x=\"73.5\" y=\"-94.8\" font-family=\"Helvetica,sans-Serif\" font-size=\"14.00\">samples = 99.6%</text>\n",
       "<text text-anchor=\"middle\" x=\"73.5\" y=\"-79.8\" font-family=\"Helvetica,sans-Serif\" font-size=\"14.00\">value = [0.598, 0.402]</text>\n",
       "</g>\n",
       "<!-- 0&#45;&gt;1 -->\n",
       "<g id=\"edge1\" class=\"edge\">\n",
       "<title>0&#45;&gt;1</title>\n",
       "<path fill=\"none\" stroke=\"black\" d=\"M129.93,-160.87C121.86,-152.1 112.72,-142.15 104.18,-132.86\"/>\n",
       "<polygon fill=\"black\" stroke=\"black\" points=\"106.52,-130.24 97.18,-125.25 101.37,-134.98 106.52,-130.24\"/>\n",
       "<text text-anchor=\"middle\" x=\"96.13\" y=\"-146.53\" font-family=\"Helvetica,sans-Serif\" font-size=\"14.00\">True</text>\n",
       "</g>\n",
       "<!-- 2400 -->\n",
       "<g id=\"node5\" class=\"node\">\n",
       "<title>2400</title>\n",
       "<polygon fill=\"#ea975c\" stroke=\"black\" points=\"304,-125 165,-125 165,-72 304,-72 304,-125\"/>\n",
       "<text text-anchor=\"middle\" x=\"234.5\" y=\"-109.8\" font-family=\"Helvetica,sans-Serif\" font-size=\"14.00\">feature_4245 &lt;= 0.5</text>\n",
       "<text text-anchor=\"middle\" x=\"234.5\" y=\"-94.8\" font-family=\"Helvetica,sans-Serif\" font-size=\"14.00\">samples = 0.4%</text>\n",
       "<text text-anchor=\"middle\" x=\"234.5\" y=\"-79.8\" font-family=\"Helvetica,sans-Serif\" font-size=\"14.00\">value = [0.85, 0.15]</text>\n",
       "</g>\n",
       "<!-- 0&#45;&gt;2400 -->\n",
       "<g id=\"edge4\" class=\"edge\">\n",
       "<title>0&#45;&gt;2400</title>\n",
       "<path fill=\"none\" stroke=\"black\" d=\"M177.36,-160.87C185.61,-152.01 194.98,-141.95 203.7,-132.58\"/>\n",
       "<polygon fill=\"black\" stroke=\"black\" points=\"206.27,-134.95 210.53,-125.25 201.15,-130.18 206.27,-134.95\"/>\n",
       "<text text-anchor=\"middle\" x=\"211.42\" y=\"-146.53\" font-family=\"Helvetica,sans-Serif\" font-size=\"14.00\">False</text>\n",
       "</g>\n",
       "<!-- 2 -->\n",
       "<g id=\"node3\" class=\"node\">\n",
       "<title>2</title>\n",
       "<polygon fill=\"#c0c0c0\" stroke=\"black\" points=\"73.5,-36 19.5,-36 19.5,0 73.5,0 73.5,-36\"/>\n",
       "<text text-anchor=\"middle\" x=\"46.5\" y=\"-14.3\" font-family=\"Helvetica,sans-Serif\" font-size=\"14.00\">(...)</text>\n",
       "</g>\n",
       "<!-- 1&#45;&gt;2 -->\n",
       "<g id=\"edge2\" class=\"edge\">\n",
       "<title>1&#45;&gt;2</title>\n",
       "<path fill=\"none\" stroke=\"black\" d=\"M64.66,-71.8C61.82,-63.53 58.66,-54.35 55.79,-46\"/>\n",
       "<polygon fill=\"black\" stroke=\"black\" points=\"59.02,-44.65 52.46,-36.33 52.4,-46.93 59.02,-44.65\"/>\n",
       "</g>\n",
       "<!-- 2353 -->\n",
       "<g id=\"node4\" class=\"node\">\n",
       "<title>2353</title>\n",
       "<polygon fill=\"#c0c0c0\" stroke=\"black\" points=\"145.5,-36 91.5,-36 91.5,0 145.5,0 145.5,-36\"/>\n",
       "<text text-anchor=\"middle\" x=\"118.5\" y=\"-14.3\" font-family=\"Helvetica,sans-Serif\" font-size=\"14.00\">(...)</text>\n",
       "</g>\n",
       "<!-- 1&#45;&gt;2353 -->\n",
       "<g id=\"edge3\" class=\"edge\">\n",
       "<title>1&#45;&gt;2353</title>\n",
       "<path fill=\"none\" stroke=\"black\" d=\"M88.23,-71.8C93.13,-63.26 98.58,-53.75 103.5,-45.17\"/>\n",
       "<polygon fill=\"black\" stroke=\"black\" points=\"106.63,-46.75 108.57,-36.33 100.56,-43.27 106.63,-46.75\"/>\n",
       "</g>\n",
       "<!-- 2401 -->\n",
       "<g id=\"node6\" class=\"node\">\n",
       "<title>2401</title>\n",
       "<polygon fill=\"#c0c0c0\" stroke=\"black\" points=\"239.5,-36 185.5,-36 185.5,0 239.5,0 239.5,-36\"/>\n",
       "<text text-anchor=\"middle\" x=\"212.5\" y=\"-14.3\" font-family=\"Helvetica,sans-Serif\" font-size=\"14.00\">(...)</text>\n",
       "</g>\n",
       "<!-- 2400&#45;&gt;2401 -->\n",
       "<g id=\"edge5\" class=\"edge\">\n",
       "<title>2400&#45;&gt;2401</title>\n",
       "<path fill=\"none\" stroke=\"black\" d=\"M227.3,-71.8C224.98,-63.53 222.41,-54.35 220.07,-46\"/>\n",
       "<polygon fill=\"black\" stroke=\"black\" points=\"223.43,-45.01 217.36,-36.33 216.69,-46.9 223.43,-45.01\"/>\n",
       "</g>\n",
       "<!-- 2426 -->\n",
       "<g id=\"node7\" class=\"node\">\n",
       "<title>2426</title>\n",
       "<polygon fill=\"#c0c0c0\" stroke=\"black\" points=\"311.5,-36 257.5,-36 257.5,0 311.5,0 311.5,-36\"/>\n",
       "<text text-anchor=\"middle\" x=\"284.5\" y=\"-14.3\" font-family=\"Helvetica,sans-Serif\" font-size=\"14.00\">(...)</text>\n",
       "</g>\n",
       "<!-- 2400&#45;&gt;2426 -->\n",
       "<g id=\"edge6\" class=\"edge\">\n",
       "<title>2400&#45;&gt;2426</title>\n",
       "<path fill=\"none\" stroke=\"black\" d=\"M250.87,-71.8C256.37,-63.17 262.5,-53.54 268,-44.9\"/>\n",
       "<polygon fill=\"black\" stroke=\"black\" points=\"271.04,-46.65 273.46,-36.33 265.14,-42.88 271.04,-46.65\"/>\n",
       "</g>\n",
       "</g>\n",
       "</svg>\n"
      ],
      "text/plain": [
       "<graphviz.sources.Source at 0x21aba84da90>"
      ]
     },
     "metadata": {},
     "output_type": "display_data"
    },
    {
     "data": {
      "image/svg+xml": [
       "<?xml version=\"1.0\" encoding=\"UTF-8\" standalone=\"no\"?>\n",
       "<!DOCTYPE svg PUBLIC \"-//W3C//DTD SVG 1.1//EN\"\n",
       " \"http://www.w3.org/Graphics/SVG/1.1/DTD/svg11.dtd\">\n",
       "<!-- Generated by graphviz version 2.50.0 (0)\n",
       " -->\n",
       "<!-- Title: Tree Pages: 1 -->\n",
       "<svg width=\"290pt\" height=\"222pt\"\n",
       " viewBox=\"0.00 0.00 290.00 222.00\" xmlns=\"http://www.w3.org/2000/svg\" xmlns:xlink=\"http://www.w3.org/1999/xlink\">\n",
       "<g id=\"graph0\" class=\"graph\" transform=\"scale(1 1) rotate(0) translate(4 218)\">\n",
       "<title>Tree</title>\n",
       "<polygon fill=\"white\" stroke=\"transparent\" points=\"-4,4 -4,-218 286,-218 286,4 -4,4\"/>\n",
       "<!-- 0 -->\n",
       "<g id=\"node1\" class=\"node\">\n",
       "<title>0</title>\n",
       "<polygon fill=\"#f7d8c1\" stroke=\"black\" points=\"222,-214 75,-214 75,-161 222,-161 222,-214\"/>\n",
       "<text text-anchor=\"middle\" x=\"148.5\" y=\"-198.8\" font-family=\"Helvetica,sans-Serif\" font-size=\"14.00\">feature_67 &lt;= 0.5</text>\n",
       "<text text-anchor=\"middle\" x=\"148.5\" y=\"-183.8\" font-family=\"Helvetica,sans-Serif\" font-size=\"14.00\">samples = 100.0%</text>\n",
       "<text text-anchor=\"middle\" x=\"148.5\" y=\"-168.8\" font-family=\"Helvetica,sans-Serif\" font-size=\"14.00\">value = [0.593, 0.407]</text>\n",
       "</g>\n",
       "<!-- 1 -->\n",
       "<g id=\"node2\" class=\"node\">\n",
       "<title>1</title>\n",
       "<polygon fill=\"#f7dac5\" stroke=\"black\" points=\"147,-125 0,-125 0,-72 147,-72 147,-125\"/>\n",
       "<text text-anchor=\"middle\" x=\"73.5\" y=\"-109.8\" font-family=\"Helvetica,sans-Serif\" font-size=\"14.00\">feature_7616 &lt;= 0.5</text>\n",
       "<text text-anchor=\"middle\" x=\"73.5\" y=\"-94.8\" font-family=\"Helvetica,sans-Serif\" font-size=\"14.00\">samples = 98.2%</text>\n",
       "<text text-anchor=\"middle\" x=\"73.5\" y=\"-79.8\" font-family=\"Helvetica,sans-Serif\" font-size=\"14.00\">value = [0.585, 0.415]</text>\n",
       "</g>\n",
       "<!-- 0&#45;&gt;1 -->\n",
       "<g id=\"edge1\" class=\"edge\">\n",
       "<title>0&#45;&gt;1</title>\n",
       "<path fill=\"none\" stroke=\"black\" d=\"M126.4,-160.87C118.84,-152.1 110.27,-142.15 102.26,-132.86\"/>\n",
       "<polygon fill=\"black\" stroke=\"black\" points=\"104.88,-130.54 95.7,-125.25 99.58,-135.11 104.88,-130.54\"/>\n",
       "<text text-anchor=\"middle\" x=\"93.85\" y=\"-146.48\" font-family=\"Helvetica,sans-Serif\" font-size=\"14.00\">True</text>\n",
       "</g>\n",
       "<!-- 2218 -->\n",
       "<g id=\"node5\" class=\"node\">\n",
       "<title>2218</title>\n",
       "<polygon fill=\"#e58139\" stroke=\"black\" points=\"282,-117.5 165,-117.5 165,-79.5 282,-79.5 282,-117.5\"/>\n",
       "<text text-anchor=\"middle\" x=\"223.5\" y=\"-102.3\" font-family=\"Helvetica,sans-Serif\" font-size=\"14.00\">samples = 1.8%</text>\n",
       "<text text-anchor=\"middle\" x=\"223.5\" y=\"-87.3\" font-family=\"Helvetica,sans-Serif\" font-size=\"14.00\">value = [1.0, 0.0]</text>\n",
       "</g>\n",
       "<!-- 0&#45;&gt;2218 -->\n",
       "<g id=\"edge4\" class=\"edge\">\n",
       "<title>0&#45;&gt;2218</title>\n",
       "<path fill=\"none\" stroke=\"black\" d=\"M170.6,-160.87C180.26,-149.66 191.58,-136.53 201.26,-125.29\"/>\n",
       "<polygon fill=\"black\" stroke=\"black\" points=\"204.1,-127.37 207.98,-117.51 198.8,-122.8 204.1,-127.37\"/>\n",
       "<text text-anchor=\"middle\" x=\"209.82\" y=\"-138.74\" font-family=\"Helvetica,sans-Serif\" font-size=\"14.00\">False</text>\n",
       "</g>\n",
       "<!-- 2 -->\n",
       "<g id=\"node3\" class=\"node\">\n",
       "<title>2</title>\n",
       "<polygon fill=\"#c0c0c0\" stroke=\"black\" points=\"64.5,-36 10.5,-36 10.5,0 64.5,0 64.5,-36\"/>\n",
       "<text text-anchor=\"middle\" x=\"37.5\" y=\"-14.3\" font-family=\"Helvetica,sans-Serif\" font-size=\"14.00\">(...)</text>\n",
       "</g>\n",
       "<!-- 1&#45;&gt;2 -->\n",
       "<g id=\"edge2\" class=\"edge\">\n",
       "<title>1&#45;&gt;2</title>\n",
       "<path fill=\"none\" stroke=\"black\" d=\"M61.71,-71.8C57.84,-63.35 53.53,-53.95 49.63,-45.45\"/>\n",
       "<polygon fill=\"black\" stroke=\"black\" points=\"52.8,-43.96 45.45,-36.33 46.43,-46.88 52.8,-43.96\"/>\n",
       "</g>\n",
       "<!-- 2217 -->\n",
       "<g id=\"node4\" class=\"node\">\n",
       "<title>2217</title>\n",
       "<polygon fill=\"#c0c0c0\" stroke=\"black\" points=\"136.5,-36 82.5,-36 82.5,0 136.5,0 136.5,-36\"/>\n",
       "<text text-anchor=\"middle\" x=\"109.5\" y=\"-14.3\" font-family=\"Helvetica,sans-Serif\" font-size=\"14.00\">(...)</text>\n",
       "</g>\n",
       "<!-- 1&#45;&gt;2217 -->\n",
       "<g id=\"edge3\" class=\"edge\">\n",
       "<title>1&#45;&gt;2217</title>\n",
       "<path fill=\"none\" stroke=\"black\" d=\"M85.29,-71.8C89.16,-63.35 93.47,-53.95 97.37,-45.45\"/>\n",
       "<polygon fill=\"black\" stroke=\"black\" points=\"100.57,-46.88 101.55,-36.33 94.2,-43.96 100.57,-46.88\"/>\n",
       "</g>\n",
       "</g>\n",
       "</svg>\n"
      ],
      "text/plain": [
       "<graphviz.sources.Source at 0x21aba9b3c50>"
      ]
     },
     "metadata": {},
     "output_type": "display_data"
    }
   ],
   "source": [
    "num_features = X_Train.shape[1]\n",
    "feature_names = [f\"feature_{i}\" for i in range(num_features)]\n",
    "\n",
    "for i in range(3):\n",
    "    tree = model_rf.estimators_[i]\n",
    "    dot_data = export_graphviz(tree,\n",
    "                               feature_names=feature_names,\n",
    "                               filled=True,\n",
    "                               max_depth=1,\n",
    "                               impurity=False,\n",
    "                               proportion=True)\n",
    "    graph = graphviz.Source(dot_data)\n",
    "    display(graph)"
   ]
  }
 ],
 "metadata": {
  "kernelspec": {
   "display_name": "Python 3 (ipykernel)",
   "language": "python",
   "name": "python3"
  },
  "language_info": {
   "codemirror_mode": {
    "name": "ipython",
    "version": 3
   },
   "file_extension": ".py",
   "mimetype": "text/x-python",
   "name": "python",
   "nbconvert_exporter": "python",
   "pygments_lexer": "ipython3",
   "version": "3.11.4"
  }
 },
 "nbformat": 4,
 "nbformat_minor": 5
}
