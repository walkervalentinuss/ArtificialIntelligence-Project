{
 "cells": [
  {
   "cell_type": "markdown",
   "id": "727a2ffd",
   "metadata": {},
   "source": [
    "## Import Package"
   ]
  },
  {
   "cell_type": "code",
   "execution_count": 1,
   "id": "ca4b83a2",
   "metadata": {
    "vscode": {
     "languageId": "plaintext"
    }
   },
   "outputs": [],
   "source": [
    "import pandas as pd\n",
    "from sklearn.preprocessing import LabelEncoder, OneHotEncoder\n",
    "from sklearn.model_selection import train_test_split\n",
    "from sklearn.ensemble import RandomForestClassifier\n",
    "from sklearn.metrics import confusion_matrix, accuracy_score, balanced_accuracy_score"
   ]
  },
  {
   "cell_type": "markdown",
   "id": "c573c668",
   "metadata": {},
   "source": [
    "## Membaca Dataset"
   ]
  },
  {
   "cell_type": "code",
   "execution_count": 2,
   "id": "204ea508",
   "metadata": {},
   "outputs": [],
   "source": [
    "df = pd.read_csv('android_traffic.csv', sep=';')\n",
    "df_copy = df.copy()"
   ]
  },
  {
   "cell_type": "markdown",
   "id": "d0a4dbc4",
   "metadata": {},
   "source": [
    "## Menghapus kolom yang memiliki NaN 100%"
   ]
  },
  {
   "cell_type": "code",
   "execution_count": 3,
   "id": "e479db68",
   "metadata": {},
   "outputs": [],
   "source": [
    "columns_to_remove = ['duracion','avg_local_pkt_rate','avg_remote_pkt_rate']\n",
    "df_copy = df_copy.drop(columns = columns_to_remove)"
   ]
  },
  {
   "cell_type": "markdown",
   "id": "5ef5a956",
   "metadata": {},
   "source": [
    "## Memisahkan fitur independent dan fitur dependent"
   ]
  },
  {
   "cell_type": "code",
   "execution_count": null,
   "id": "fb2241f7",
   "metadata": {},
   "outputs": [],
   "source": [
    "X = df_copy.iloc[:, :-1].values # Independent Feature\n",
    "y = df_copy.iloc[:, 13].values # Dependent Feature\n",
    "\n"
   ]
  }
 ],
 "metadata": {
  "kernelspec": {
   "display_name": "Python 3 (ipykernel)",
   "language": "python",
   "name": "python3"
  },
  "language_info": {
   "codemirror_mode": {
    "name": "ipython",
    "version": 3
   },
   "file_extension": ".py",
   "mimetype": "text/x-python",
   "name": "python",
   "nbconvert_exporter": "python",
   "pygments_lexer": "ipython3",
   "version": "3.11.4"
  }
 },
 "nbformat": 4,
 "nbformat_minor": 5
}
