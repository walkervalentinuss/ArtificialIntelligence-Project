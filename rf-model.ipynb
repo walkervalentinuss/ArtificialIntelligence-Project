{
 "cells": [
  {
   "cell_type": "markdown",
   "id": "727a2ffd",
   "metadata": {},
   "source": [
    "## Import Package"
   ]
  },
  {
   "cell_type": "code",
   "execution_count": 1,
   "id": "ca4b83a2",
   "metadata": {
    "vscode": {
     "languageId": "plaintext"
    }
   },
   "outputs": [],
   "source": [
    "import pandas as pd\n",
    "from sklearn.preprocessing import LabelEncoder, OneHotEncoder\n",
    "from sklearn.model_selection import train_test_split\n",
    "from sklearn.ensemble import RandomForestClassifier\n",
    "from sklearn.metrics import confusion_matrix, accuracy_score, balanced_accuracy_score"
   ]
  },
  {
   "cell_type": "markdown",
   "id": "c573c668",
   "metadata": {},
   "source": [
    "## Membaca Dataset"
   ]
  },
  {
   "cell_type": "code",
   "execution_count": 2,
   "id": "204ea508",
   "metadata": {},
   "outputs": [],
   "source": [
    "df = pd.read_csv('android_traffic.csv', sep=';')\n",
    "df_copy = df.copy()"
   ]
  },
  {
   "cell_type": "markdown",
   "id": "d0a4dbc4",
   "metadata": {},
   "source": [
    "## Menghapus kolom yang memiliki NaN 100%"
   ]
  },
  {
   "cell_type": "code",
   "execution_count": 3,
   "id": "e479db68",
   "metadata": {},
   "outputs": [],
   "source": [
    "columns_to_remove = ['duracion','avg_local_pkt_rate','avg_remote_pkt_rate']\n",
    "df_copy = df_copy.drop(columns = columns_to_remove)"
   ]
  },
  {
   "cell_type": "markdown",
   "id": "bb4bd975",
   "metadata": {},
   "source": [
    "## Memisahkan fitur independent dan fitur dependent"
   ]
  },
  {
   "cell_type": "code",
   "execution_count": 4,
   "id": "8214df53",
   "metadata": {},
   "outputs": [],
   "source": [
    "X = df_copy.iloc[:, :-1].values # Independent Feature\n",
    "y = df_copy.iloc[:, 13].values # Dependent Feature\n",
    "\n"
   ]
  },
  {
   "cell_type": "markdown",
   "id": "0e126c0a",
   "metadata": {},
   "source": [
    "## Melakukan Labeling"
   ]
  },
  {
   "cell_type": "code",
   "execution_count": 5,
   "id": "9c64e214",
   "metadata": {},
   "outputs": [],
   "source": [
    "encoder = OneHotEncoder(handle_unknown='ignore')\n",
    "X = encoder.fit_transform(X).toarray()\n",
    "\n",
    "label_encoder_y = LabelEncoder()\n",
    "y = label_encoder_y.fit_transform(y)\n"
   ]
  },
  {
   "cell_type": "markdown",
   "id": "7ff267d6",
   "metadata": {},
   "source": [
    "## Membagi dataset menjadi Training dan Testing"
   ]
  },
  {
   "cell_type": "code",
   "execution_count": 6,
   "id": "e7a7a661",
   "metadata": {},
   "outputs": [],
   "source": [
    "X_Train, X_Test, y_Train, y_Test = train_test_split(\\\n",
    "                                                    X,\n",
    "                                                    y,\n",
    "                                                    test_size = 0.2,\n",
    "                                                    random_state = 100)\n"
   ]
  },
  {
   "cell_type": "markdown",
   "id": "a2ae2a93",
   "metadata": {},
   "source": [
    "## Model Random Forest"
   ]
  },
  {
   "cell_type": "code",
   "execution_count": 7,
   "id": "f7a6b784",
   "metadata": {},
   "outputs": [
    {
     "name": "stdout",
     "output_type": "stream",
     "text": [
      "[[932   7]\n",
      " [ 24 606]]\n",
      "Accuracy:  0.9802421924792861\n",
      "Balanced Accuracy:  0.9772250114103149\n"
     ]
    }
   ],
   "source": [
    "model_rf = RandomForestClassifier(\\\n",
    "                                   n_estimators=500,\n",
    "                                   min_samples_split=5,\n",
    "                                   class_weight=\"balanced\",\n",
    "                                   random_state=100)\n",
    "\n",
    "model_rf.fit(X_Train, y_Train)\n",
    "y_pred = model_rf.predict(X_Test)\n",
    "\n",
    "print(confusion_matrix(y_Test, y_pred))\n",
    "print(\"Accuracy: \", accuracy_score(y_Test, y_pred))\n",
    "print(\"Balanced Accuracy: \", balanced_accuracy_score(y_Test, y_pred))"
   ]
  }
 ],
 "metadata": {
  "kernelspec": {
   "display_name": "Python 3 (ipykernel)",
   "language": "python",
   "name": "python3"
  },
  "language_info": {
   "codemirror_mode": {
    "name": "ipython",
    "version": 3
   },
   "file_extension": ".py",
   "mimetype": "text/x-python",
   "name": "python",
   "nbconvert_exporter": "python",
   "pygments_lexer": "ipython3",
   "version": "3.11.4"
  }
 },
 "nbformat": 4,
 "nbformat_minor": 5
}
